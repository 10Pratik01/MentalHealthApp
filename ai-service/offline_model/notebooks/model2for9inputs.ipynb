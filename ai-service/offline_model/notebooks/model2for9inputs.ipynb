{
 "cells": [
  {
   "cell_type": "code",
   "execution_count": 1,
   "id": "b1914e35",
   "metadata": {},
   "outputs": [
    {
     "name": "stderr",
     "output_type": "stream",
     "text": [
      "c:\\Users\\HP\\AppData\\Local\\Programs\\Python\\Python311\\Lib\\site-packages\\tqdm\\auto.py:21: TqdmWarning: IProgress not found. Please update jupyter and ipywidgets. See https://ipywidgets.readthedocs.io/en/stable/user_install.html\n",
      "  from .autonotebook import tqdm as notebook_tqdm\n"
     ]
    },
    {
     "name": "stdout",
     "output_type": "stream",
     "text": [
      "torch: 2.7.1+cpu\n",
      "transformers: 4.56.1\n"
     ]
    }
   ],
   "source": [
    "# If running in a fresh environment you might need to install packages:\n",
    "# !pip install transformers datasets scikit-learn torch tqdm\n",
    "\n",
    "import os\n",
    "import random\n",
    "import pickle\n",
    "from pathlib import Path\n",
    "\n",
    "import numpy as np\n",
    "import pandas as pd\n",
    "from sklearn.model_selection import train_test_split\n",
    "from sklearn.preprocessing import LabelEncoder\n",
    "from sklearn.metrics import classification_report, confusion_matrix, accuracy_score\n",
    "\n",
    "import torch\n",
    "import torch.nn as nn\n",
    "from torch.utils.data import Dataset, DataLoader\n",
    "\n",
    "from transformers import AlbertTokenizerFast, AlbertForSequenceClassification, get_linear_schedule_with_warmup\n",
    "from torch.optim import AdamW   # <-- FIX: use PyTorch AdamW\n",
    "\n",
    "from tqdm.auto import tqdm\n",
    "\n",
    "print(\"torch:\", torch.__version__)\n",
    "import transformers\n",
    "print(\"transformers:\", transformers.__version__)\n"
   ]
  },
  {
   "cell_type": "code",
   "execution_count": 2,
   "id": "7b51e82e",
   "metadata": {},
   "outputs": [],
   "source": [
    "# ---------- Edit these paths / params as needed ----------\n",
    "DATA_PATH = \"../data/Updated_PHQ9_Student_Dataset.csv\"  # path to your CSV\n",
    "OUT_DIR = \"models/phq9_albert_concat\"\n",
    "MODEL_NAME = \"albert-base-v2\"\n",
    "\n",
    "RANDOM_SEED = 42\n",
    "TEST_SIZE = 0.2\n",
    "\n",
    "EPOCHS = 4\n",
    "TRAIN_BATCH_SIZE = 8\n",
    "EVAL_BATCH_SIZE = 16\n",
    "LEARNING_RATE = 2e-5\n",
    "MAX_LEN = 256   # increase if concatenated answers are long\n",
    "WARMUP_PCT = 0.06\n",
    "\n",
    "DELIMITER = \" ||| \"  # between answers when concatenating\n",
    "\n",
    "os.makedirs(OUT_DIR, exist_ok=True)\n",
    "\n"
   ]
  },
  {
   "cell_type": "code",
   "execution_count": 3,
   "id": "74a540cc",
   "metadata": {},
   "outputs": [],
   "source": [
    "# Dataset class and helper functions\n",
    "\n",
    "class PHQ9ConcatDataset(Dataset):\n",
    "    def __init__(self, encodings, labels):\n",
    "        self.enc = encodings\n",
    "        self.labels = labels\n",
    "\n",
    "    def __len__(self):\n",
    "        return len(self.labels)\n",
    "\n",
    "    def __getitem__(self, idx):\n",
    "        item = {k: torch.tensor(v[idx]) for k, v in self.enc.items()}\n",
    "        item[\"labels\"] = torch.tensor(self.labels[idx], dtype=torch.long)\n",
    "        return item\n",
    "\n",
    "def find_question_columns(df):\n",
    "    \"\"\"\n",
    "    Try several heuristics to locate 9 per-question text columns in the dataframe.\n",
    "    Returns a list of column names in order if successful, else None.\n",
    "    \"\"\"\n",
    "    cols = df.columns.tolist()\n",
    "    # common short keys\n",
    "    SHORT_Q_KEYS = [f\"Q{i}\" for i in range(1,10)] + [f\"q{i}\" for i in range(1,10)]\n",
    "    found = [k for k in SHORT_Q_KEYS if k in cols]\n",
    "    if len(found) == 9:\n",
    "        return found\n",
    "\n",
    "    # try exact question texts (common variants)\n",
    "    POSSIBLE_Q_COLS = [\n",
    "        \"Little interest or pleasure in doing things?\",\n",
    "        \"Feeling down, depressed, or hopeless?\",\n",
    "        \"Trouble falling or staying asleep, or sleeping too much?\",\n",
    "        \"Feeling tired or having little energy?\",\n",
    "        \"Poor appetite or overeating?\",\n",
    "        \"Feeling bad about yourself — or that you are a failure or have let yourself or your family down?\",\n",
    "        \"Trouble concentrating on things, such as reading the newspaper or watching television?\",\n",
    "        \"Moving or speaking so slowly that other people could have noticed? Or the opposite — being so fidgety or restless that you have been moving around a lot more than usual?\",\n",
    "        \"Thoughts that you would be better off dead, or thoughts of hurting yourself in some way?\"\n",
    "    ]\n",
    "    found = [c for c in POSSIBLE_Q_COLS if c in cols]\n",
    "    if len(found) == 9:\n",
    "        return found\n",
    "\n",
    "    # cleaned matching\n",
    "    alt_keys = [c.replace(\" \", \"_\").replace(\"—\",\"-\").replace(\"?\",\"\") for c in POSSIBLE_Q_COLS]\n",
    "    found = []\n",
    "    for alt in alt_keys:\n",
    "        for c in cols:\n",
    "            c_clean = c.replace(\" \", \"_\").replace(\"—\",\"-\").replace(\"?\",\"\")\n",
    "            if alt.lower() == c_clean.lower():\n",
    "                found.append(c)\n",
    "    if len(found) == 9:\n",
    "        return found\n",
    "\n",
    "    # keyword-based fallback in likely order\n",
    "    keywords = [\"interest\", \"down\", \"sleep\", \"tired\", \"appetite\", \"failure\", \"concentrat\", \"moving\", \"better off dead\"]\n",
    "    found = []\n",
    "    for kw in keywords:\n",
    "        for c in cols:\n",
    "            if kw in c.lower():\n",
    "                found.append(c)\n",
    "                break\n",
    "    if len(found) == 9:\n",
    "        return found\n",
    "\n",
    "    return None\n",
    "\n"
   ]
  },
  {
   "cell_type": "code",
   "execution_count": 4,
   "id": "31711856",
   "metadata": {},
   "outputs": [
    {
     "name": "stdout",
     "output_type": "stream",
     "text": [
      "Rows loaded: 400\n",
      "Columns: ['Age', 'Gender', 'Little interest or pleasure in doing things?', 'Feeling down, depressed, or hopeless?', 'Trouble falling or staying asleep, or sleeping too much?', 'Feeling tired or having little energy?', 'Poor appetite or overeating?', 'Feeling bad about yourself — or that you are a failure or have let yourself or your family down?', 'Trouble concentrating on things, such as reading the newspaper or watching television?', 'Moving or speaking so slowly that other people could have noticed? Or the opposite — being so fidgety or restless that you have been moving around a lot more than usual?', 'Thoughts that you would be better off dead, or thoughts of hurting yourself in some way?', 'PHQ-9 Total Score', 'Depression Level']\n",
      "Detected question columns (in order):\n",
      " Q1: Little interest or pleasure in doing things?\n",
      " Q2: Feeling down, depressed, or hopeless?\n",
      " Q3: Trouble falling or staying asleep, or sleeping too much?\n",
      " Q4: Feeling tired or having little energy?\n",
      " Q5: Poor appetite or overeating?\n",
      " Q6: Feeling bad about yourself — or that you are a failure or have let yourself or your family down?\n",
      " Q7: Trouble concentrating on things, such as reading the newspaper or watching television?\n",
      " Q8: Moving or speaking so slowly that other people could have noticed? Or the opposite — being so fidgety or restless that you have been moving around a lot more than usual?\n",
      " Q9: Thoughts that you would be better off dead, or thoughts of hurting yourself in some way?\n"
     ]
    },
    {
     "data": {
      "text/html": [
       "<div>\n",
       "<style scoped>\n",
       "    .dataframe tbody tr th:only-of-type {\n",
       "        vertical-align: middle;\n",
       "    }\n",
       "\n",
       "    .dataframe tbody tr th {\n",
       "        vertical-align: top;\n",
       "    }\n",
       "\n",
       "    .dataframe thead th {\n",
       "        text-align: right;\n",
       "    }\n",
       "</style>\n",
       "<table border=\"1\" class=\"dataframe\">\n",
       "  <thead>\n",
       "    <tr style=\"text-align: right;\">\n",
       "      <th></th>\n",
       "      <th>concat_text</th>\n",
       "    </tr>\n",
       "  </thead>\n",
       "  <tbody>\n",
       "    <tr>\n",
       "      <th>0</th>\n",
       "      <td>Not at all ||| Several days ||| Not at all |||...</td>\n",
       "    </tr>\n",
       "    <tr>\n",
       "      <th>1</th>\n",
       "      <td>Several days ||| Nearly every day ||| More tha...</td>\n",
       "    </tr>\n",
       "    <tr>\n",
       "      <th>2</th>\n",
       "      <td>Nearly every day ||| Several days ||| Nearly e...</td>\n",
       "    </tr>\n",
       "  </tbody>\n",
       "</table>\n",
       "</div>"
      ],
      "text/plain": [
       "                                         concat_text\n",
       "0  Not at all ||| Several days ||| Not at all |||...\n",
       "1  Several days ||| Nearly every day ||| More tha...\n",
       "2  Nearly every day ||| Several days ||| Nearly e..."
      ]
     },
     "execution_count": 4,
     "metadata": {},
     "output_type": "execute_result"
    }
   ],
   "source": [
    "# Load CSV\n",
    "assert os.path.exists(DATA_PATH), f\"Data file not found: {DATA_PATH}\"\n",
    "df = pd.read_csv(DATA_PATH)\n",
    "print(\"Rows loaded:\", len(df))\n",
    "print(\"Columns:\", df.columns.tolist()[:40])\n",
    "\n",
    "qcols = find_question_columns(df)\n",
    "if qcols is None:\n",
    "    print(\"WARNING: Could not detect per-question text columns automatically.\")\n",
    "    print(\"Falling back to using 'PHQ-9 Total Score' as textual input (same as your earlier notebook).\")\n",
    "    fallback_col = \"PHQ-9 Total Score\"\n",
    "    if fallback_col not in df.columns:\n",
    "        raise RuntimeError(f\"No per-question columns found and fallback '{fallback_col}' missing.\")\n",
    "    df[\"concat_text\"] = df[fallback_col].astype(str)\n",
    "else:\n",
    "    print(\"Detected question columns (in order):\")\n",
    "    for i, c in enumerate(qcols, start=1):\n",
    "        print(f\" Q{i}: {c}\")\n",
    "    df[qcols] = df[qcols].fillna(\"\").astype(str)\n",
    "    df[\"concat_text\"] = df[qcols].agg(DELIMITER.join, axis=1)\n",
    "\n",
    "# Quick peek\n",
    "df[[\"concat_text\"]].head(3)\n"
   ]
  },
  {
   "cell_type": "code",
   "execution_count": 5,
   "id": "7bac6ad0",
   "metadata": {},
   "outputs": [
    {
     "name": "stdout",
     "output_type": "stream",
     "text": [
      "Label mapping: {0: 'Mild', 1: 'Minimal', 2: 'Moderate', 3: 'Moderately Severe', 4: 'Severe'}\n",
      "Train / Val sizes: 320 80\n"
     ]
    }
   ],
   "source": [
    "# Ensure target column present\n",
    "assert \"Depression Level\" in df.columns, \"Label column 'Depression Level' not found.\"\n",
    "\n",
    "# Label encoding\n",
    "label_encoder = LabelEncoder()\n",
    "df[\"label\"] = label_encoder.fit_transform(df[\"Depression Level\"].astype(str))\n",
    "label_map = {int(i): c for i, c in enumerate(label_encoder.classes_)}\n",
    "print(\"Label mapping:\", label_map)\n",
    "\n",
    "# Train/val split (stratified)\n",
    "X = df[\"concat_text\"].astype(str).values\n",
    "y = df[\"label\"].values\n",
    "X_train, X_val, y_train, y_val = train_test_split(X, y, test_size=TEST_SIZE, stratify=y, random_state=RANDOM_SEED)\n",
    "print(\"Train / Val sizes:\", len(X_train), len(X_val))\n"
   ]
  },
  {
   "cell_type": "code",
   "execution_count": 6,
   "id": "7268fcec",
   "metadata": {},
   "outputs": [
    {
     "name": "stdout",
     "output_type": "stream",
     "text": [
      "Batches -> train: 40  val: 5\n"
     ]
    }
   ],
   "source": [
    "# Tokenizer + encodings\n",
    "tokenizer = AlbertTokenizerFast.from_pretrained(MODEL_NAME)\n",
    "train_enc = tokenizer(list(X_train), truncation=True, padding=True, max_length=MAX_LEN)\n",
    "val_enc = tokenizer(list(X_val), truncation=True, padding=True, max_length=MAX_LEN)\n",
    "\n",
    "train_dataset = PHQ9ConcatDataset(train_enc, y_train)\n",
    "val_dataset = PHQ9ConcatDataset(val_enc, y_val)\n",
    "\n",
    "train_loader = DataLoader(train_dataset, batch_size=TRAIN_BATCH_SIZE, shuffle=True)\n",
    "val_loader = DataLoader(val_dataset, batch_size=EVAL_BATCH_SIZE)\n",
    "\n",
    "print(\"Batches -> train:\", len(train_loader), \" val:\", len(val_loader))\n"
   ]
  },
  {
   "cell_type": "code",
   "execution_count": 7,
   "id": "85acb141",
   "metadata": {},
   "outputs": [
    {
     "name": "stderr",
     "output_type": "stream",
     "text": [
      "Some weights of AlbertForSequenceClassification were not initialized from the model checkpoint at albert-base-v2 and are newly initialized: ['classifier.bias', 'classifier.weight']\n",
      "You should probably TRAIN this model on a down-stream task to be able to use it for predictions and inference.\n"
     ]
    },
    {
     "name": "stdout",
     "output_type": "stream",
     "text": [
      "Using device: cpu\n"
     ]
    }
   ],
   "source": [
    "# Model\n",
    "num_labels = len(np.unique(y))\n",
    "model = AlbertForSequenceClassification.from_pretrained(MODEL_NAME, num_labels=num_labels)\n",
    "device = torch.device(\"cuda\" if torch.cuda.is_available() else \"cpu\")\n",
    "model.to(device)\n",
    "print(\"Using device:\", device)\n",
    "\n",
    "optimizer = AdamW(model.parameters(), lr=LEARNING_RATE)\n",
    "total_steps = len(train_loader) * EPOCHS\n",
    "warmup_steps = int(WARMUP_PCT * total_steps) if total_steps > 0 else 0\n",
    "scheduler = get_linear_schedule_with_warmup(optimizer, num_warmup_steps=warmup_steps, num_training_steps=total_steps)\n",
    "loss_fn = nn.CrossEntropyLoss()\n"
   ]
  },
  {
   "cell_type": "code",
   "execution_count": 8,
   "id": "28ff1d7a",
   "metadata": {},
   "outputs": [
    {
     "name": "stderr",
     "output_type": "stream",
     "text": [
      "Epoch 1 Train:   0%|          | 0/40 [00:00<?, ?it/s]"
     ]
    },
    {
     "name": "stderr",
     "output_type": "stream",
     "text": [
      "Epoch 1 Train: 100%|██████████| 40/40 [02:20<00:00,  3.51s/it, train_loss=1.26]\n",
      "Epoch 1 Val: 100%|██████████| 5/5 [00:10<00:00,  2.13s/it]\n"
     ]
    },
    {
     "name": "stdout",
     "output_type": "stream",
     "text": [
      "Epoch 1/4 -> train_loss: 1.2603  val_loss: 1.1277  val_acc: 0.4625\n",
      "Saved best model to models/phq9_albert_concat\n"
     ]
    },
    {
     "name": "stderr",
     "output_type": "stream",
     "text": [
      "Epoch 2 Train: 100%|██████████| 40/40 [02:09<00:00,  3.23s/it, train_loss=0.956]\n",
      "Epoch 2 Val: 100%|██████████| 5/5 [00:10<00:00,  2.16s/it]\n"
     ]
    },
    {
     "name": "stdout",
     "output_type": "stream",
     "text": [
      "Epoch 2/4 -> train_loss: 0.9563  val_loss: 0.7292  val_acc: 0.7750\n",
      "Saved best model to models/phq9_albert_concat\n"
     ]
    },
    {
     "name": "stderr",
     "output_type": "stream",
     "text": [
      "Epoch 3 Train: 100%|██████████| 40/40 [02:18<00:00,  3.46s/it, train_loss=0.596]\n",
      "Epoch 3 Val: 100%|██████████| 5/5 [00:10<00:00,  2.17s/it]\n"
     ]
    },
    {
     "name": "stdout",
     "output_type": "stream",
     "text": [
      "Epoch 3/4 -> train_loss: 0.5956  val_loss: 0.5115  val_acc: 0.8500\n",
      "Saved best model to models/phq9_albert_concat\n"
     ]
    },
    {
     "name": "stderr",
     "output_type": "stream",
     "text": [
      "Epoch 4 Train: 100%|██████████| 40/40 [01:50<00:00,  2.75s/it, train_loss=0.457]\n",
      "Epoch 4 Val: 100%|██████████| 5/5 [00:07<00:00,  1.51s/it]"
     ]
    },
    {
     "name": "stdout",
     "output_type": "stream",
     "text": [
      "Epoch 4/4 -> train_loss: 0.4571  val_loss: 0.4618  val_acc: 0.8875\n",
      "Saved best model to models/phq9_albert_concat\n",
      "Training complete. Best val_loss: 0.46181249618530273\n"
     ]
    },
    {
     "name": "stderr",
     "output_type": "stream",
     "text": [
      "\n"
     ]
    }
   ],
   "source": [
    "best_val_loss = float(\"inf\")\n",
    "os.makedirs(OUT_DIR, exist_ok=True)\n",
    "\n",
    "for epoch in range(1, EPOCHS + 1):\n",
    "    # Train\n",
    "    model.train()\n",
    "    train_losses = []\n",
    "    pbar = tqdm(train_loader, desc=f\"Epoch {epoch} Train\")\n",
    "    for batch in pbar:\n",
    "        optimizer.zero_grad()\n",
    "        input_ids = batch[\"input_ids\"].to(device)\n",
    "        attention_mask = batch[\"attention_mask\"].to(device)\n",
    "        labels = batch[\"labels\"].to(device)\n",
    "        outputs = model(input_ids=input_ids, attention_mask=attention_mask, labels=labels)\n",
    "        loss = outputs.loss\n",
    "        loss.backward()\n",
    "        optimizer.step()\n",
    "        scheduler.step()\n",
    "        train_losses.append(loss.item())\n",
    "        pbar.set_postfix(train_loss=np.mean(train_losses))\n",
    "\n",
    "    # Eval\n",
    "    model.eval()\n",
    "    val_losses = []\n",
    "    all_preds = []\n",
    "    all_labels = []\n",
    "    with torch.no_grad():\n",
    "        for batch in tqdm(val_loader, desc=f\"Epoch {epoch} Val\"):\n",
    "            input_ids = batch[\"input_ids\"].to(device)\n",
    "            attention_mask = batch[\"attention_mask\"].to(device)\n",
    "            labels = batch[\"labels\"].to(device)\n",
    "            outputs = model(input_ids=input_ids, attention_mask=attention_mask, labels=labels)\n",
    "            loss = outputs.loss\n",
    "            logits = outputs.logits\n",
    "            val_losses.append(loss.item())\n",
    "            preds = torch.argmax(logits, dim=1).cpu().numpy()\n",
    "            all_preds.extend(preds.tolist())\n",
    "            all_labels.extend(labels.cpu().numpy().tolist())\n",
    "\n",
    "    avg_train_loss = np.mean(train_losses) if train_losses else 0.0\n",
    "    avg_val_loss = np.mean(val_losses) if val_losses else 0.0\n",
    "    val_acc = accuracy_score(all_labels, all_preds) if all_labels else 0.0\n",
    "\n",
    "    print(f\"Epoch {epoch}/{EPOCHS} -> train_loss: {avg_train_loss:.4f}  val_loss: {avg_val_loss:.4f}  val_acc: {val_acc:.4f}\")\n",
    "\n",
    "    # Save best\n",
    "    if avg_val_loss < best_val_loss:\n",
    "        best_val_loss = avg_val_loss\n",
    "        model.save_pretrained(OUT_DIR)\n",
    "        tokenizer.save_pretrained(OUT_DIR)\n",
    "        with open(os.path.join(OUT_DIR, \"label_map.pkl\"), \"wb\") as f:\n",
    "            pickle.dump(label_map, f)\n",
    "        print(\"Saved best model to\", OUT_DIR)\n",
    "\n",
    "print(\"Training complete. Best val_loss:\", best_val_loss)\n"
   ]
  },
  {
   "cell_type": "code",
   "execution_count": 10,
   "id": "f04cf684",
   "metadata": {},
   "outputs": [
    {
     "name": "stderr",
     "output_type": "stream",
     "text": [
      "Final Eval (full): 100%|██████████| 5/5 [00:10<00:00,  2.07s/it]"
     ]
    },
    {
     "name": "stdout",
     "output_type": "stream",
     "text": [
      "Accuracy: 0.8875\n",
      "\n",
      "True label distribution (label_idx:count): {0: 9, 2: 34, 3: 33, 4: 4}\n",
      "Predicted label distribution (label_idx:count): {0: 7, 2: 39, 3: 34}\n",
      "\n",
      "Classification report (all labels):\n",
      "\n",
      "                   precision    recall  f1-score   support\n",
      "\n",
      "             Mild       1.00      0.78      0.88         9\n",
      "          Minimal       0.00      0.00      0.00         0\n",
      "         Moderate       0.87      1.00      0.93        34\n",
      "Moderately Severe       0.88      0.91      0.90        33\n",
      "           Severe       0.00      0.00      0.00         4\n",
      "\n",
      "         accuracy                           0.89        80\n",
      "        macro avg       0.55      0.54      0.54        80\n",
      "     weighted avg       0.85      0.89      0.86        80\n",
      "\n"
     ]
    },
    {
     "name": "stderr",
     "output_type": "stream",
     "text": [
      "\n"
     ]
    },
    {
     "data": {
      "text/html": [
       "<div>\n",
       "<style scoped>\n",
       "    .dataframe tbody tr th:only-of-type {\n",
       "        vertical-align: middle;\n",
       "    }\n",
       "\n",
       "    .dataframe tbody tr th {\n",
       "        vertical-align: top;\n",
       "    }\n",
       "\n",
       "    .dataframe thead th {\n",
       "        text-align: right;\n",
       "    }\n",
       "</style>\n",
       "<table border=\"1\" class=\"dataframe\">\n",
       "  <thead>\n",
       "    <tr style=\"text-align: right;\">\n",
       "      <th></th>\n",
       "      <th>Mild</th>\n",
       "      <th>Minimal</th>\n",
       "      <th>Moderate</th>\n",
       "      <th>Moderately Severe</th>\n",
       "      <th>Severe</th>\n",
       "    </tr>\n",
       "  </thead>\n",
       "  <tbody>\n",
       "    <tr>\n",
       "      <th>Mild</th>\n",
       "      <td>7</td>\n",
       "      <td>0</td>\n",
       "      <td>2</td>\n",
       "      <td>0</td>\n",
       "      <td>0</td>\n",
       "    </tr>\n",
       "    <tr>\n",
       "      <th>Minimal</th>\n",
       "      <td>0</td>\n",
       "      <td>0</td>\n",
       "      <td>0</td>\n",
       "      <td>0</td>\n",
       "      <td>0</td>\n",
       "    </tr>\n",
       "    <tr>\n",
       "      <th>Moderate</th>\n",
       "      <td>0</td>\n",
       "      <td>0</td>\n",
       "      <td>34</td>\n",
       "      <td>0</td>\n",
       "      <td>0</td>\n",
       "    </tr>\n",
       "    <tr>\n",
       "      <th>Moderately Severe</th>\n",
       "      <td>0</td>\n",
       "      <td>0</td>\n",
       "      <td>3</td>\n",
       "      <td>30</td>\n",
       "      <td>0</td>\n",
       "    </tr>\n",
       "    <tr>\n",
       "      <th>Severe</th>\n",
       "      <td>0</td>\n",
       "      <td>0</td>\n",
       "      <td>0</td>\n",
       "      <td>4</td>\n",
       "      <td>0</td>\n",
       "    </tr>\n",
       "  </tbody>\n",
       "</table>\n",
       "</div>"
      ],
      "text/plain": [
       "                   Mild  Minimal  Moderate  Moderately Severe  Severe\n",
       "Mild                  7        0         2                  0       0\n",
       "Minimal               0        0         0                  0       0\n",
       "Moderate              0        0        34                  0       0\n",
       "Moderately Severe     0        0         3                 30       0\n",
       "Severe                0        0         0                  4       0"
      ]
     },
     "metadata": {},
     "output_type": "display_data"
    },
    {
     "data": {
      "image/png": "[encoded data removed]",
      "text/plain": [
       "<Figure size 800x600 with 2 Axes>"
      ]
     },
     "metadata": {},
     "output_type": "display_data"
    }
   ],
   "source": [
    "# Option B: full report for all label classes (shows zero metrics for missing predictions)\n",
    "from sklearn.metrics import classification_report, confusion_matrix, accuracy_score\n",
    "import numpy as np\n",
    "import seaborn as sns\n",
    "import matplotlib.pyplot as plt\n",
    "\n",
    "model.eval()\n",
    "all_preds = []\n",
    "all_labels = []\n",
    "with torch.no_grad():\n",
    "    for batch in tqdm(val_loader, desc=\"Final Eval (full)\"):\n",
    "        input_ids = batch[\"input_ids\"].to(device)\n",
    "        attention_mask = batch[\"attention_mask\"].to(device)\n",
    "        labels = batch[\"labels\"].to(device)\n",
    "        outputs = model(input_ids=input_ids, attention_mask=attention_mask)\n",
    "        logits = outputs.logits\n",
    "        preds = torch.argmax(logits, dim=1).cpu().numpy()\n",
    "        all_preds.extend(preds.tolist())\n",
    "        all_labels.extend(labels.cpu().numpy().tolist())\n",
    "\n",
    "all_preds = np.array(all_preds)\n",
    "all_labels = np.array(all_labels)\n",
    "\n",
    "print(\"Accuracy:\", accuracy_score(all_labels, all_preds))\n",
    "print()\n",
    "\n",
    "# Show support\n",
    "unique, counts = np.unique(all_labels, return_counts=True)\n",
    "print(\"True label distribution (label_idx:count):\", dict(zip(unique.tolist(), counts.tolist())))\n",
    "unique_p, counts_p = np.unique(all_preds, return_counts=True)\n",
    "print(\"Predicted label distribution (label_idx:count):\", dict(zip(unique_p.tolist(), counts_p.tolist())))\n",
    "print()\n",
    "\n",
    "n_classes = len(label_encoder.classes_)\n",
    "labels_full = list(range(n_classes))\n",
    "target_names_full = list(label_encoder.classes_)\n",
    "\n",
    "print(\"Classification report (all labels):\\n\")\n",
    "print(classification_report(all_labels, all_preds,\n",
    "                            labels=labels_full,\n",
    "                            target_names=target_names_full,\n",
    "                            zero_division=0))\n",
    "\n",
    "# Confusion matrix for all labels\n",
    "cm = confusion_matrix(all_labels, all_preds, labels=labels_full)\n",
    "cm_df = pd.DataFrame(cm, index=target_names_full, columns=target_names_full)\n",
    "display(cm_df)\n",
    "\n",
    "plt.figure(figsize=(8,6))\n",
    "sns.heatmap(cm_df, annot=True, fmt=\"d\", cmap=\"Blues\")\n",
    "plt.title(\"Confusion Matrix (all labels)\")\n",
    "plt.ylabel(\"True\")\n",
    "plt.xlabel(\"Pred\")\n",
    "plt.show()\n"
   ]
  },
  {
   "cell_type": "code",
   "execution_count": 1,
   "id": "e9c58ff5",
   "metadata": {},
   "outputs": [
    {
     "name": "stderr",
     "output_type": "stream",
     "text": [
      "c:\\Users\\HP\\AppData\\Local\\Programs\\Python\\Python311\\Lib\\site-packages\\tqdm\\auto.py:21: TqdmWarning: IProgress not found. Please update jupyter and ipywidgets. See https://ipywidgets.readthedocs.io/en/stable/user_install.html\n",
      "  from .autonotebook import tqdm as notebook_tqdm\n"
     ]
    },
    {
     "name": "stdout",
     "output_type": "stream",
     "text": [
      "Predicted class index: 3\n",
      "Predicted label: Moderately Severe\n",
      "Class probabilities: {'Mild': 0.055345457047224045, 'Minimal': 0.025188010185956955, 'Moderate': 0.3162563145160675, 'Moderately Severe': 0.5387077927589417, 'Severe': 0.06450243294239044}\n"
     ]
    }
   ],
   "source": [
    "import os\n",
    "import pickle\n",
    "import torch\n",
    "import numpy as np\n",
    "from transformers import AlbertTokenizerFast, AlbertForSequenceClassification\n",
    "\n",
    "# === Load model and tokenizer ===\n",
    "MODEL_DIR = \"models/phq9_albert_concat\"   # adjust if saved elsewhere\n",
    "DEVICE = torch.device(\"cuda\" if torch.cuda.is_available() else \"cpu\")\n",
    "\n",
    "tokenizer = AlbertTokenizerFast.from_pretrained(MODEL_DIR, local_files_only=True)\n",
    "model = AlbertForSequenceClassification.from_pretrained(MODEL_DIR, local_files_only=True)\n",
    "model.to(DEVICE)\n",
    "model.eval()\n",
    "\n",
    "# load label_map\n",
    "label_map_path = os.path.join(MODEL_DIR, \"label_map.pkl\")\n",
    "with open(label_map_path, \"rb\") as f:\n",
    "    label_map = pickle.load(f)\n",
    "\n",
    "# === Hard-coded example answers (Q1..Q9) ===\n",
    "answers = [\n",
    "    \"I rarely enjoy doing things these days.\",                    # Q1\n",
    "    \"I feel down and hopeless most of the time.\",                 # Q2\n",
    "    \"I have trouble sleeping almost every night.\",                # Q3\n",
    "    \"I feel tired nearly every day.\",                             # Q4\n",
    "    \"I overeat when I’m stressed.\",                               # Q5\n",
    "    \"I often feel like I’ve let my family down.\",                 # Q6\n",
    "    \"It’s hard to concentrate on reading or watching TV.\",         # Q7\n",
    "    \"People notice I move more slowly than before.\",              # Q8\n",
    "    \"Sometimes I think I’d be better off dead.\"                   # Q9\n",
    "]\n",
    "\n",
    "# concatenate into one string (must match training format)\n",
    "concat_text = \" ||| \".join(answers)\n",
    "\n",
    "# === Run through model ===\n",
    "enc = tokenizer(concat_text, truncation=True, padding=\"max_length\", max_length=256, return_tensors=\"pt\")\n",
    "input_ids = enc[\"input_ids\"].to(DEVICE)\n",
    "attention_mask = enc[\"attention_mask\"].to(DEVICE)\n",
    "\n",
    "with torch.no_grad():\n",
    "    outputs = model(input_ids=input_ids, attention_mask=attention_mask)\n",
    "    logits = outputs.logits.cpu().numpy()[0]\n",
    "    probs = torch.softmax(torch.from_numpy(logits), dim=-1).numpy()\n",
    "\n",
    "pred_idx = int(np.argmax(probs))\n",
    "pred_label = label_map.get(pred_idx, pred_idx)\n",
    "\n",
    "print(\"Predicted class index:\", pred_idx)\n",
    "print(\"Predicted label:\", pred_label)\n",
    "print(\"Class probabilities:\", {label_map[i]: float(p) for i, p in enumerate(probs)})\n"
   ]
  },
  {
   "cell_type": "code",
   "execution_count": null,
   "id": "fe3b753f",
   "metadata": {},
   "outputs": [],
   "source": []
  }
 ],
 "metadata": {
  "kernelspec": {
   "display_name": "Python 3",
   "language": "python",
   "name": "python3"
  },
  "language_info": {
   "codemirror_mode": {
    "name": "ipython",
    "version": 3
   },
   "file_extension": ".py",
   "mimetype": "text/x-python",
   "name": "python",
   "nbconvert_exporter": "python",
   "pygments_lexer": "ipython3",
   "version": "3.11.4"
  }
 },
 "nbformat": 4,
 "nbformat_minor": 5
}
